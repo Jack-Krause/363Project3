{
  "cells": [
    {
      "cell_type": "code",
      "execution_count": 86,
      "metadata": {
        "id": "8I9jRg0aFEHb"
      },
      "outputs": [],
      "source": [
        "# !pip install pymongo # please comment this line before submission\n",
        "# import all libs (do not change)\n",
        "from pymongo import MongoClient\n",
        "from pymongo.mongo_client import MongoClient\n",
        "from pymongo.server_api import ServerApi\n",
        "import json\n",
        "import pymongo\n",
        "import pprint\n",
        "import nbformat\n",
        "from nbconvert.preprocessors import ExecutePreprocessor"
      ]
    },
    {
      "cell_type": "code",
      "execution_count": 87,
      "metadata": {
        "id": "4HO9yeOVFEHe"
      },
      "outputs": [
        {
          "name": "stdout",
          "output_type": "stream",
          "text": [
            "Pinged your deployment. You successfully connected to MongoDB! {'ok': 1}\n"
          ]
        }
      ],
      "source": [
        "# fill in uri (5pts)\n",
        "import os\n",
        "from os import getenv\n",
        "from dotenv import load_dotenv\n",
        "if os.path.exists(\".env\"):\n",
        "    load_dotenv(\".env\")\n",
        "    \n",
        "uri = getenv(\"MONGO_URI\")\n",
        "\n",
        "# Create a new client and connect to the server\n",
        "client = MongoClient(uri, server_api=ServerApi('1'))\n",
        "# Send a ping to confirm a successful connection\n",
        "try:\n",
        "    capture = client.admin.command('ping')\n",
        "    print(\"Pinged your deployment. You successfully connected to MongoDB!\", capture)\n",
        "except Exception as e:\n",
        "    print(e)"
      ]
    },
    {
      "cell_type": "code",
      "execution_count": 88,
      "metadata": {
        "id": "IL0NLm_HFEHe"
      },
      "outputs": [],
      "source": [
        "# database (do not change)\n",
        "# db = client['test']\n",
        "\n",
        "\n",
        "# if 'litcovidtest' in db.list_collection_names():\n",
        "#     db['litcovidtest'].drop()\n",
        "\n",
        "db = client.litcovid\n",
        "\n",
        "if 'corpus' in db.list_collection_names():\n",
        "    db.corpus.drop()\n",
        "    \n",
        "\n",
        "db = client.litcovid\n",
        "coll = db.corpus\n",
        "\n"
      ]
    },
    {
      "cell_type": "code",
      "execution_count": 89,
      "metadata": {
        "collapsed": true,
        "id": "nAEJSUTrFEHe"
      },
      "outputs": [
        {
          "name": "stdout",
          "output_type": "stream",
          "text": [
            "inserting list\n"
          ]
        }
      ],
      "source": [
        "# Loading or Opening the json file\n",
        "with open('litcovid2BioCJSON_small.json') as file:\n",
        "    file_data = json.load(file)\n",
        "    \n",
        "if isinstance(file_data, list):\n",
        "    print(\"inserting list\")\n",
        "    coll.insert_many(file_data)\n",
        "else:\n",
        "    print(\"inserting single\")\n",
        "    coll.insert_one(file_data)\n",
        "\n",
        "# Inserting the loaded data in the Collection\n",
        "# if JSON contains data more than one entry\n",
        "# insert_many is used else insert_one is used\n",
        "# fill in (5 pts)"
      ]
    },
    {
      "cell_type": "code",
      "execution_count": 90,
      "metadata": {
        "id": "V0jKys5qFEHe"
      },
      "outputs": [
        {
          "name": "stdout",
          "output_type": "stream",
          "text": [
            "Count the number of documents in this corpus 1000\n"
          ]
        }
      ],
      "source": [
        "# Count the number of documents in this corpus\n",
        "# fill in (10 pts)\n",
        "result1 = coll.count_documents({})\n",
        "print(\"Count the number of documents in this corpus\", result1)"
      ]
    },
    {
      "cell_type": "code",
      "execution_count": 91,
      "metadata": {
        "id": "QqmvAix4FEHe"
      },
      "outputs": [
        {
          "name": "stdout",
          "output_type": "stream",
          "text": [
            "dict_keys(['_id', 'id', 'infons', 'passages', 'pmid', 'pmcid', 'journal', 'year', 'authors'])\n"
          ]
        }
      ],
      "source": [
        "# find the fields for the first document in this corpus\n",
        "# fill in (10 pts)\n",
        "first_doc = coll.find_one()\n",
        "result2 = first_doc.keys()\n",
        "pprint.pprint(result2)"
      ]
    },
    {
      "cell_type": "code",
      "execution_count": 92,
      "metadata": {
        "id": "t8sNzES2FEHf"
      },
      "outputs": [
        {
          "name": "stdout",
          "output_type": "stream",
          "text": [
            "{'_id': '', 'count': 137}\n",
            "{'_id': 'BMJ', 'count': 12}\n",
            "{'_id': 'Nature', 'count': 10}\n",
            "{'_id': 'PLoS One', 'count': 9}\n",
            "{'_id': 'Cureus', 'count': 7}\n",
            "{'_id': 'Sci Rep', 'count': 6}\n",
            "{'_id': 'N Engl J Med', 'count': 5}\n",
            "{'_id': 'Am J Infect Control', 'count': 5}\n",
            "{'_id': 'Gastroenterology', 'count': 5}\n"
          ]
        }
      ],
      "source": [
        "# Count the number of publications for each journal. Sort the result in descending order and print journals with more than 4 publications\n",
        "\n",
        "# fill in (10 pts)\n",
        "pipeline = [\n",
        "    {\"$group\": {\"_id\": \"$journal\", \"count\": {\"$sum\": 1}}},\n",
        "    {\"$match\": {\"count\": {\"$gt\": 4}}},\n",
        "    {\"$sort\": {\"count\": -1}}\n",
        "]\n",
        "\n",
        "result3 = coll.aggregate(pipeline)\n",
        "for post in result3:\n",
        "    pprint.pprint(post)"
      ]
    },
    {
      "cell_type": "code",
      "execution_count": 93,
      "metadata": {
        "id": "uf6uCR76FEHf"
      },
      "outputs": [
        {
          "name": "stdout",
          "output_type": "stream",
          "text": [
            "'2021'\n",
            "('Sex differences in susceptibility, severity, and outcomes of coronavirus '\n",
            " 'disease 2019: Cross-sectional analysis from a diverse US metropolitan area')\n",
            "'2021'\n",
            "('Correction: Comparative analysis of various clinical specimens in detection '\n",
            " 'of SARS-CoV-2 using rRT-PCR in new and follow up cases of COVID-19 '\n",
            " 'infection: Quest for the best choice.')\n",
            "'2020'\n",
            "\"A synthetic indicator on the impact of COVID-19 on the community's health.\"\n",
            "'2021'\n",
            "'SARS-CoV-2 infection in asymptomatic healthcare workers at a clinic in Chile'\n",
            "'2021'\n",
            "('Are older adults of Rohingya community (Forcibly Displaced Myanmar Nationals '\n",
            " 'or FDMNs) in Bangladesh fearful of COVID-19? Findings from a cross-sectional '\n",
            " 'study')\n",
            "'2021'\n",
            "('Closed for business: The mortality impact of business closures during the '\n",
            " 'Covid-19 pandemic')\n",
            "'2020'\n",
            "('Persistence of symptoms and quality of life at 35 days after hospitalization '\n",
            " 'for COVID-19 infection')\n",
            "'2021'\n",
            "('Factors indicating intention to vaccinate with a COVID-19 vaccine among '\n",
            " 'older U.S. adults')\n",
            "'2020'\n",
            "('Multi-resolution visualization and analysis of biomolecular networks through '\n",
            " 'hierarchical community detection and web-based graphical tools')\n"
          ]
        }
      ],
      "source": [
        "# Find all papers published in PLoS One journal. Print their years and titles\n",
        "# fill in (10 pts)\n",
        "result4 = coll.find({\"journal\": \"PLoS One\"})\n",
        "\n",
        "for post in result4:\n",
        "    pprint.pprint(post['passages'][0]['infons']['year'])\n",
        "    pprint.pprint(post['passages'][0]['text'])"
      ]
    },
    {
      "cell_type": "code",
      "execution_count": 94,
      "metadata": {
        "id": "QM2Uto09FEHf"
      },
      "outputs": [
        {
          "name": "stdout",
          "output_type": "stream",
          "text": [
            "{'_id': 'Zhang Y', 'count': 12}\n",
            "{'_id': 'Wang J', 'count': 8}\n",
            "{'_id': 'Wang S', 'count': 7}\n",
            "{'_id': 'Li X', 'count': 7}\n",
            "{'_id': 'Zhang L', 'count': 7}\n",
            "{'_id': 'Li Y', 'count': 7}\n",
            "{'_id': 'Zhang J', 'count': 7}\n",
            "{'_id': 'Yang Y', 'count': 7}\n",
            "{'_id': 'Li J', 'count': 6}\n",
            "{'_id': 'Zhang X', 'count': 6}\n",
            "{'_id': 'Wang Z', 'count': 6}\n",
            "{'_id': 'Li H', 'count': 6}\n",
            "{'_id': 'Liu Y', 'count': 6}\n",
            "{'_id': 'Shi Y', 'count': 5}\n",
            "{'_id': 'Liu J', 'count': 5}\n",
            "{'_id': 'Wang X', 'count': 5}\n",
            "{'_id': 'Zheng Y', 'count': 5}\n",
            "{'_id': 'Wang Y', 'count': 5}\n"
          ]
        }
      ],
      "source": [
        "# Count the number of publications for each author. Sort the results in descending order and return authors with 5 or more publications\n",
        "# fill in (10 pts)\n",
        "result5 = coll.aggregate([\n",
        "    {\"$unwind\": \"$authors\"},\n",
        "    {\"$group\": {\"_id\": \"$authors\", \"count\": {\"$sum\": 1}}},\n",
        "    {\"$match\": {\"count\": {\"$gte\": 5}}},\n",
        "    {\"$sort\": {\"count\": -1}}\n",
        "])\n",
        "for post in result5:\n",
        "    pprint.pprint(post)"
      ]
    },
    {
      "cell_type": "code",
      "execution_count": 95,
      "metadata": {
        "id": "rMOoamXPFEHf"
      },
      "outputs": [
        {
          "name": "stdout",
          "output_type": "stream",
          "text": [
            "34124189\n",
            "'Front Cardiovasc Med'\n",
            "('Early vs. Late Onset Cardiac Injury and Mortality in Hospitalized COVID-19 '\n",
            " 'Patients in Wuhan.')\n",
            "34184314\n",
            "'Echocardiography'\n",
            "('Incremental prognostic value of biventricular longitudinal strain and '\n",
            " 'high-sensitivity troponin I in COVID-19 patients.')\n"
          ]
        }
      ],
      "source": [
        "# Find the papers co-written by ‘Wang J’ and 'Zhang L', print the paper pmids, journal names and titles\n",
        "# fill in (10 pts)\n",
        "result6= coll.find({\"authors\": {\"$all\": [\"Wang J\", \"Zhang L\"]}})\n",
        "for post in result6:\n",
        "    pprint.pprint(post['pmid'])\n",
        "    pprint.pprint(post['journal'])\n",
        "    pprint.pprint(post['passages'][0]['text'])"
      ]
    },
    {
      "cell_type": "code",
      "execution_count": 96,
      "metadata": {
        "collapsed": true,
        "id": "EYYtzt7KFEHg"
      },
      "outputs": [
        {
          "data": {
            "text/plain": [
              "'passages.text_text'"
            ]
          },
          "execution_count": 96,
          "metadata": {},
          "output_type": "execute_result"
        }
      ],
      "source": [
        "# Create text index on passages.text\n",
        "# fill in\n",
        "coll.create_index(\n",
        "    [(\"passages.text\", \"text\")]\n",
        ")"
      ]
    },
    {
      "cell_type": "code",
      "execution_count": 97,
      "metadata": {
        "id": "6YzNWHUVFEHg"
      },
      "outputs": [
        {
          "name": "stdout",
          "output_type": "stream",
          "text": [
            "Count the number of publications that contains the phrase 'COVID-19 Vaccine' 46\n"
          ]
        }
      ],
      "source": [
        "# count the number of publications that contains the phrase \"COVID-19 Vaccine\"\n",
        "# fill in (10 pts)\n",
        "result7 = coll.count_documents({\"$text\": {\"$search\": \"\\\"COVID-19 Vaccine\\\"\"}})\n",
        "print(\"Count the number of publications that contains the phrase 'COVID-19 Vaccine'\", result7)"
      ]
    },
    {
      "cell_type": "code",
      "execution_count": 98,
      "metadata": {
        "id": "ASwQCM03FEHg"
      },
      "outputs": [
        {
          "name": "stdout",
          "output_type": "stream",
          "text": [
            "Count the number of publications that contains the words 'COVID-19' or 'Sars-CoV-2' 957\n"
          ]
        }
      ],
      "source": [
        "# count the number of publications that contains the words \"COVID-19\" or \"Sars-CoV-2\"\n",
        "# fill in (10 pts)\n",
        "result8= coll.count_documents({\"$text\": {\"$search\": \"Covid-19 Sars-CoV-2\"}})\n",
        "print(\"Count the number of publications that contains the words 'COVID-19' or 'Sars-CoV-2'\", result8)"
      ]
    },
    {
      "cell_type": "code",
      "execution_count": 99,
      "metadata": {
        "id": "wTLrz6xdFEHg"
      },
      "outputs": [
        {
          "name": "stdout",
          "output_type": "stream",
          "text": [
            "Count the number of publications that contains the words 'COVID-19' and 'Sars-CoV-2' 384\n"
          ]
        }
      ],
      "source": [
        "# count the number of publications that contains the words \"COVID-19\" and \"Sars-CoV-2\"\n",
        "# fill in (10 pts)\n",
        "result9 = coll.count_documents({\"$text\": {\"$search\": \"\\\"COVID-19\\\" \\\"Sars-CoV-2\\\"\"}})\n",
        "print(\"Count the number of publications that contains the words 'COVID-19' and 'Sars-CoV-2'\", result9)"
      ]
    }
  ],
  "metadata": {
    "colab": {
      "provenance": []
    },
    "kernelspec": {
      "display_name": "363_proj_3",
      "language": "python",
      "name": "python3"
    },
    "language_info": {
      "codemirror_mode": {
        "name": "ipython",
        "version": 3
      },
      "file_extension": ".py",
      "mimetype": "text/x-python",
      "name": "python",
      "nbconvert_exporter": "python",
      "pygments_lexer": "ipython3",
      "version": "3.11.12"
    }
  },
  "nbformat": 4,
  "nbformat_minor": 0
}
